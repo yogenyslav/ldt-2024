{
 "cells": [
  {
   "cell_type": "code",
   "execution_count": 3,
   "metadata": {},
   "outputs": [],
   "source": [
    "import numpy as np\n",
    "import pandas as pd\n",
    "import tqdm\n",
    "import torch\n",
    "import torch.nn as nn\n",
    "import torch.optim as optim\n",
    "import torch.nn.functional as F\n",
    "from sklearn.model_selection import train_test_split\n",
    "import matplotlib.pyplot as plt\n",
    "\n",
    "def generate_purchase_data(dates, average_period, std_period, minor_purchase_probability, main_mean, main_std, main_clip, noise_mean, noise_std, noise_clip):\n",
    "    purchases = np.zeros(len(dates))\n",
    "\n",
    "    current_date_index = 0\n",
    "    last_purchase_index = -1\n",
    "    while current_date_index < len(dates):\n",
    "        rand_value = main_std*np.random.randn() + main_mean\n",
    "        clip_rand_value = np.clip(rand_value, main_mean-main_clip + (np.random.rand()-0.5)*main_std/5, main_mean + main_clip + (np.random.rand()-0.5)*main_std/5)\n",
    "        clip_rand_value = np.clip(clip_rand_value, a_min=main_mean//2, a_max=None)\n",
    "        purchases[current_date_index] += clip_rand_value\n",
    "        last_purchase_index = current_date_index\n",
    "\n",
    "        next_period = int(np.random.normal(average_period, std_period))\n",
    "        next_period = np.clip(next_period, average_period//2, average_period+average_period//2)\n",
    "        current_date_index += next_period\n",
    "\n",
    "    for i in range(len(dates)):\n",
    "        if np.random.rand() < minor_purchase_probability and purchases[i] == 0:\n",
    "            rand_value = noise_std*np.random.randn() + noise_mean\n",
    "            clip_rand_value = np.clip(rand_value, noise_mean-noise_clip + (np.random.rand()-0.5)*noise_std/5, noise_mean + noise_clip + (np.random.rand()-0.5)*noise_std/5)\n",
    "            clip_rand_value = np.clip(clip_rand_value, a_min=0, a_max=None)\n",
    "            purchases[i] += clip_rand_value\n",
    "    \n",
    "\n",
    "    return purchases, last_purchase_index\n",
    "\n",
    "DEVICE = 'cuda'"
   ]
  },
  {
   "cell_type": "code",
   "execution_count": null,
   "metadata": {},
   "outputs": [],
   "source": [
    "start_date = '2018-01-01'\n",
    "end_date = '2022-12-31'\n",
    "\n",
    "X = []\n",
    "y = []\n",
    "\n",
    "dates = pd.date_range(start=start_date, end=end_date, freq='M').astype(int)\n",
    "dates = (dates-dates.min())/(dates.max()-dates.min())\n",
    "dates = dates.to_numpy()\n",
    "\n",
    "n = 5000000\n",
    "for i in tqdm.tqdm(range(n)):\n",
    "    average_period = np.random.randint(3, 15)\n",
    "    main_mean = np.random.randint(3000, 5000)\n",
    "    main_std = np.random.randint(500, 2000)\n",
    "    main_clip = np.random.randint(500, 3000)\n",
    "    noise_mean = np.random.randint(250, 1000)\n",
    "    noise_std = np.random.randint(100, 500)\n",
    "    noise_clip = np.random.randint(100, 600)\n",
    "    minor_purchase_probability = np.random.rand()/3\n",
    "    to_zero_range = np.random.randint(0, 64-24)\n",
    "    \n",
    "    if average_period > 7 and np.random.rand() > 0.8:\n",
    "        std_period = 2\n",
    "    else:\n",
    "        std_period = 1\n",
    "        \n",
    "    purchases, last_purchase_index = generate_purchase_data(dates, average_period, std_period, minor_purchase_probability, main_mean, main_std, main_clip, noise_mean, noise_std, noise_clip)\n",
    "    \n",
    "    if np.random.rand() > 0.7:\n",
    "        purchases[:to_zero_range] *= 0\n",
    "        \n",
    "    X.append(purchases)\n",
    "    y.append([average_period, last_purchase_index])\n",
    "\n",
    "X = np.stack(X)\n",
    "X = (X - X.min(axis=-1)[..., None])/(X.max(axis=-1)[..., None] - X.min(axis=-1)[..., None])\n",
    "X = np.concatenate((dates[None].repeat(n, axis=0)[:, None], X[:, None]), axis=1)\n",
    "\n",
    "y = np.array(y).astype(np.float32)"
   ]
  },
  {
   "cell_type": "code",
   "execution_count": 5,
   "metadata": {},
   "outputs": [],
   "source": [
    "np.savez_compressed('synthetic_data/chunk1', X=X, y=y)"
   ]
  },
  {
   "cell_type": "code",
   "execution_count": 18,
   "metadata": {},
   "outputs": [],
   "source": [
    "chunk = np.load('/home/fromy/projects/ldt/synthetic_data/chunk1.npz')\n",
    "\n",
    "X, y = chunk['X'], chunk['y']"
   ]
  },
  {
   "cell_type": "code",
   "execution_count": 19,
   "metadata": {},
   "outputs": [],
   "source": [
    "\n",
    "\n",
    "X_train, X_test, y_train, y_test = train_test_split(X, y, test_size=0.2, random_state=42)\n",
    "\n",
    "X_train = torch.tensor(X_train, dtype=torch.float32)\n",
    "X_test = torch.tensor(X_test, dtype=torch.float32)\n",
    "y_train = torch.tensor(y_train, dtype=torch.float32)\n",
    "y_test = torch.tensor(y_test, dtype=torch.float32)"
   ]
  },
  {
   "cell_type": "code",
   "execution_count": 67,
   "metadata": {},
   "outputs": [],
   "source": [
    "class ConvNet(nn.Module):\n",
    "    def __init__(self):\n",
    "        super(ConvNet, self).__init__()\n",
    "        \n",
    "        self.block = nn.Sequential(\n",
    "            nn.Conv1d(2, 16, kernel_size=3, padding=1),\n",
    "            nn.MaxPool1d(2),\n",
    "            nn.ReLU(),\n",
    "            nn.Conv1d(16, 32, kernel_size=3, padding=1),\n",
    "            nn.MaxPool1d(2),\n",
    "            nn.ReLU(),\n",
    "            nn.Conv1d(32, 32, kernel_size=5, padding=1),\n",
    "            nn.ReLU(),\n",
    "        )\n",
    "\n",
    "        self.fc = nn.Sequential(\n",
    "            nn.Linear(32, 16),\n",
    "            nn.ReLU(),\n",
    "            nn.Linear(16, 2),\n",
    "        ) \n",
    "\n",
    "    def forward(self, x):\n",
    "        x = self.block(x)\n",
    "        x = self.fc(x.permute(0, 2, 1))\n",
    "        x = x.mean((1,))\n",
    "        return x\n",
    "\n",
    "model = ConvNet().to(DEVICE)"
   ]
  },
  {
   "cell_type": "code",
   "execution_count": 20,
   "metadata": {},
   "outputs": [],
   "source": [
    "from torch.utils.data import DataLoader, TensorDataset\n",
    "\n",
    "train_dataset = TensorDataset(X_train, y_train)\n",
    "test_dataset = TensorDataset(X_test, y_test)\n",
    "\n",
    "batch_size = 1024\n",
    "train_loader = DataLoader(train_dataset, batch_size=batch_size, shuffle=True)\n",
    "test_loader = DataLoader(test_dataset, batch_size=batch_size, shuffle=False)"
   ]
  },
  {
   "cell_type": "code",
   "execution_count": 21,
   "metadata": {},
   "outputs": [],
   "source": [
    "\n",
    "criterion = nn.MSELoss()  \n",
    "optimizer = optim.Adam(model.parameters(), lr=0.001)"
   ]
  },
  {
   "cell_type": "code",
   "execution_count": 12,
   "metadata": {},
   "outputs": [
    {
     "name": "stderr",
     "output_type": "stream",
     "text": [
      " 50%|█████     | 10/20 [06:07<06:16, 37.69s/it]"
     ]
    },
    {
     "name": "stdout",
     "output_type": "stream",
     "text": [
      "Epoch [10/20], Step [3907], Loss: 0.3671, Validation Loss: 0.3599\n"
     ]
    },
    {
     "name": "stderr",
     "output_type": "stream",
     "text": [
      "100%|██████████| 20/20 [12:12<00:00, 36.60s/it]"
     ]
    },
    {
     "name": "stdout",
     "output_type": "stream",
     "text": [
      "Epoch [20/20], Step [3907], Loss: 0.3340, Validation Loss: 0.3364\n",
      "Finished Training\n"
     ]
    },
    {
     "name": "stderr",
     "output_type": "stream",
     "text": [
      "\n"
     ]
    }
   ],
   "source": [
    "num_epochs = 20  \n",
    "validation_steps = 10 \n",
    "\n",
    "for epoch in tqdm.tqdm(range(num_epochs)):\n",
    "    model.train()\n",
    "    running_loss = 0.0\n",
    "\n",
    "    for i, (inputs, labels) in enumerate(train_loader):\n",
    "        inputs = inputs.to(DEVICE)\n",
    "        labels = labels.to(DEVICE)\n",
    "        \n",
    "        optimizer.zero_grad()\n",
    "        outputs = model(inputs)\n",
    "        loss = criterion(outputs, labels)\n",
    "        loss.backward()\n",
    "        optimizer.step()\n",
    "        running_loss += loss.item()\n",
    "\n",
    "    if (epoch + 1) % validation_steps == 0:\n",
    "        model.eval()\n",
    "        with torch.no_grad():\n",
    "            val_loss = 0.0\n",
    "            for test_inputs, test_labels in test_loader:\n",
    "                test_inputs = test_inputs.to(DEVICE)\n",
    "                test_labels = test_labels.to(DEVICE)\n",
    "                val_outputs = model(test_inputs)\n",
    "                val_loss += criterion(val_outputs, test_labels).item()\n",
    "\n",
    "        val_loss /= len(test_loader)\n",
    "        train_loss = running_loss / len(train_loader)\n",
    "        print(f'Epoch [{epoch+1}/{num_epochs}], Step [{i+1}], Loss: {train_loss:.4f}, Validation Loss: {val_loss:.4f}')\n",
    "        running_loss = 0.0\n",
    "\n",
    "print('Finished Training')"
   ]
  },
  {
   "cell_type": "code",
   "execution_count": 23,
   "metadata": {},
   "outputs": [],
   "source": [
    "torch.save(model.state_dict(), 'checkpoints/1/model.pt')"
   ]
  },
  {
   "cell_type": "code",
   "execution_count": 31,
   "metadata": {},
   "outputs": [],
   "source": [
    "import json\n",
    "\n",
    "metadata = {\n",
    "    'dates_range': (start_date, end_date),\n",
    "    'dates_freq': 'ME',\n",
    "}\n",
    "\n",
    "with open('checkpoints/1/metadata.json', mode='w') as f:\n",
    "    json.dump(metadata, f)"
   ]
  }
 ],
 "metadata": {
  "kernelspec": {
   "display_name": "env",
   "language": "python",
   "name": "python3"
  },
  "language_info": {
   "codemirror_mode": {
    "name": "ipython",
    "version": 3
   },
   "file_extension": ".py",
   "mimetype": "text/x-python",
   "name": "python",
   "nbconvert_exporter": "python",
   "pygments_lexer": "ipython3",
   "version": "3.1.-1"
  }
 },
 "nbformat": 4,
 "nbformat_minor": 2
}
